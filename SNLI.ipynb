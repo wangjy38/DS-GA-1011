{
 "cells": [
  {
   "cell_type": "markdown",
   "metadata": {},
   "source": [
    "# Read Prepossessed Data and Embeding"
   ]
  },
  {
   "cell_type": "code",
   "execution_count": 1,
   "metadata": {},
   "outputs": [],
   "source": [
    "import pickle as pkl\n",
    "import torch\n",
    "def read_data(filepath):\n",
    "    \n",
    "    processed_snli_data_train = pkl.load(open(filepath+\"processed_snli_data_train.p\", \"rb\"))\n",
    "    processed_snli_data_val = pkl.load(open(filepath+\"processed_snli_data_val.p\", \"rb\"))\n",
    "    loaded_embeddings_ft = pkl.load(open(filepath+\"loaded_embeddings_ft.p\", \"rb\"))\n",
    "    \n",
    "    return processed_snli_data_train, processed_snli_data_val, loaded_embeddings_ft"
   ]
  },
  {
   "cell_type": "code",
   "execution_count": 2,
   "metadata": {},
   "outputs": [],
   "source": [
    "processed_snli_data_train, processed_snli_data_val, loaded_embeddings_ft=read_data(\"./data/\")"
   ]
  },
  {
   "cell_type": "markdown",
   "metadata": {},
   "source": [
    "# Import Dataloader "
   ]
  },
  {
   "cell_type": "code",
   "execution_count": 3,
   "metadata": {},
   "outputs": [],
   "source": [
    "from SNLI_dataset_loader import SNLI_Dataset, SNLI_collate_func"
   ]
  },
  {
   "cell_type": "markdown",
   "metadata": {},
   "source": [
    "# Import RNN and CNN models"
   ]
  },
  {
   "cell_type": "code",
   "execution_count": 4,
   "metadata": {},
   "outputs": [],
   "source": [
    "from models.CNN import CNN \n",
    "from models.RNN import RNN"
   ]
  },
  {
   "cell_type": "markdown",
   "metadata": {},
   "source": [
    "# Test Model function"
   ]
  },
  {
   "cell_type": "code",
   "execution_count": 5,
   "metadata": {},
   "outputs": [],
   "source": [
    "device = torch.device(\"cuda\" if torch.cuda.is_available() else \"cpu\")"
   ]
  },
  {
   "cell_type": "code",
   "execution_count": 6,
   "metadata": {},
   "outputs": [],
   "source": [
    "import torch.nn.functional as F \n",
    "def test_model(loader, model):\n",
    "    \"\"\"\n",
    "    Help function that tests the model's performance on a dataset\n",
    "    @param: loader - data loader for the dataset to test against\n",
    "    \"\"\"\n",
    "    correct = 0\n",
    "    total = 0\n",
    "    model.eval()\n",
    "    for sentence_1, length_1, sentence_2, length_2, labels in loader:\n",
    "        sentence_1_batch, length_1_batch, sentence_2_batch, length_2_batch, labels =\\\n",
    "        sentence_1.to(device), length_1.to(device), sentence_2.to(device), length_2.to(device), labels.to(device)\n",
    "        \n",
    "        outputs = F.softmax(model(sentence_1_batch, length_1_batch, sentence_2_batch, length_2_batch), dim=1)\n",
    "        predicted = outputs.max(1, keepdim=True)[1]\n",
    "\n",
    "        total += labels.size(0)\n",
    "        correct += predicted.eq(labels.view_as(predicted)).sum().item()\n",
    "    return (100 * correct / total)\n"
   ]
  },
  {
   "cell_type": "markdown",
   "metadata": {},
   "source": [
    "# Train Model function"
   ]
  },
  {
   "cell_type": "code",
   "execution_count": 7,
   "metadata": {},
   "outputs": [],
   "source": [
    "import tqdm\n",
    "import matplotlib.pyplot as plt\n",
    "import pickle as pk\n",
    "%matplotlib inline\n",
    "\n",
    "def count_parameters(model):\n",
    "    return sum(p.numel() for p in model.parameters() if p.requires_grad)\n",
    "\n",
    "def train_model(model, learning_rate, num_epochs, filename):\n",
    "\n",
    "    print(\"Number of trainable parameters:{}\".format(count_parameters(model)))\n",
    "\n",
    "    \n",
    "    Loss_list = []\n",
    "    train_acc = []\n",
    "    val_acc = []\n",
    "    # Criterion and Optimizer\n",
    "    criterion = torch.nn.CrossEntropyLoss()\n",
    "    optimizer = torch.optim.Adam(model.parameters(), lr=learning_rate)\n",
    "    \n",
    "    model.to(device)\n",
    "#     criterion=criterion.to(device)\n",
    "    \n",
    "    # Train the model\n",
    "    total_step = len(train_loader)\n",
    "\n",
    "    for epoch in tqdm.trange(num_epochs):\n",
    "        for i, (sentence_1, length_1, sentence_2, length_2, labels) in enumerate(train_loader):\n",
    "            sentence_1_batch, length_1_batch, sentence_2_batch, length_2_batch, labels =\\\n",
    "        sentence_1.to(device), length_1.to(device), sentence_2.to(device), length_2.to(device), labels.to(device)\n",
    "            \n",
    "            model.train()\n",
    "            optimizer.zero_grad()\n",
    "            # Forward pass\n",
    "            \n",
    "            outputs = model(sentence_1_batch, length_1_batch, sentence_2_batch, length_2_batch)\n",
    "            \n",
    "            loss = criterion(outputs, labels)\n",
    "            Loss_list.append(loss)\n",
    "            # Backward and optimize\n",
    "            loss.backward()\n",
    "            optimizer.step()\n",
    "            # validate every 100 iterations\n",
    "            if i > 0 and i % 100 == 0:\n",
    "                # validate\n",
    "                train_acc.append(test_model(train_loader, model))\n",
    "                val_acc.append(test_model(val_loader, model))\n",
    "                print('Epoch: [{}/{}], Step: [{}/{}], Train Loss: {}, Validation Acc: {}'.format(\n",
    "                           epoch+1, num_epochs, i+1, len(train_loader), Loss_list[-1], val_acc[-1]))\n",
    "    \n",
    "    print(\"Last model's validation Accuracy:{}\".format(val_acc[-1]))\n",
    "    \n",
    "    \n",
    "    \n",
    "    \n",
    "#     plt.figure(figsize=(12,20))\n",
    "#     plt.subplot(2, 1, 1)\n",
    "#     plt.xlabel(\"Number of iterations\")\n",
    "#     plt.ylabel(\"CrossEntropyLoss\")\n",
    "#     #plt.ylim(50, 90)\n",
    "#     plt.plot(Loss_list)\n",
    "    \n",
    "    \n",
    "#     plt.subplot(2, 1, 2)\n",
    "#     plt.plot(train_acc, color='b', label='Train Accuracy')\n",
    "#     plt.plot(val_acc, color='r', label='Val Accuracy')\n",
    "#     plt.xlabel(\"Number of 100 times iterations\")\n",
    "#     plt.ylabel(\"Train&Val Accuracy\")\n",
    "#     plt.legend(loc='best')\n",
    "#     plt.show()\n",
    "    \n",
    "    pk.dump(val_acc, open('./val_acc/'+filename+\".p\", 'wb'))\n",
    "    pk.dump(train_acc, open('./train_acc/'+filename+\".p\", 'wb'))\n",
    "    pk.dump(Loss_list, open('./Loss/'+filename+\".p\", 'wb'))\n",
    "    \n",
    "    torch.save(model.state_dict(), \"./model_trained/\"+filename+\".pt\")"
   ]
  },
  {
   "cell_type": "markdown",
   "metadata": {},
   "source": [
    "# Create training and validation dataset"
   ]
  },
  {
   "cell_type": "code",
   "execution_count": 8,
   "metadata": {},
   "outputs": [],
   "source": [
    "# Build train, valid and test dataloaders\n",
    "import numpy as np\n",
    "\n",
    "MAX_WORD_LENGTH_1=int (np.percentile([len(instance[0]) for instance in processed_snli_data_train], 99))\n",
    "MAX_WORD_LENGTH_2=int (np.percentile([len(instance[1]) for instance in processed_snli_data_val], 99))\n",
    "\n",
    "BATCH_SIZE = 64\n",
    "\n",
    "train_dataset = SNLI_Dataset(processed_snli_data_train)\n",
    "train_loader = torch.utils.data.DataLoader(dataset=train_dataset,\n",
    "                                           batch_size=BATCH_SIZE,\n",
    "                                           collate_fn=SNLI_collate_func,\n",
    "                                           shuffle=True)\n",
    "\n",
    "val_dataset = SNLI_Dataset(processed_snli_data_val)\n",
    "val_loader = torch.utils.data.DataLoader(dataset=val_dataset,\n",
    "                                           batch_size=BATCH_SIZE,\n",
    "                                           collate_fn=SNLI_collate_func,\n",
    "                                           shuffle=True)\n"
   ]
  },
  {
   "cell_type": "markdown",
   "metadata": {},
   "source": [
    "# Begin training"
   ]
  },
  {
   "cell_type": "code",
   "execution_count": null,
   "metadata": {},
   "outputs": [
    {
     "name": "stderr",
     "output_type": "stream",
     "text": [
      "\r",
      "  0%|          | 0/10 [00:00<?, ?it/s]"
     ]
    },
    {
     "name": "stdout",
     "output_type": "stream",
     "text": [
      "Number of trainable parameters:1285603\n",
      "Epoch: [1/10], Step: [101/1563], Train Loss: 1.0581952333450317, Validation Acc: 44.7\n",
      "Epoch: [1/10], Step: [201/1563], Train Loss: 1.018061637878418, Validation Acc: 49.3\n"
     ]
    }
   ],
   "source": [
    "hidden_size_list = [200,300, 400]\n",
    "dropout_list = [0,0.5]\n",
    "for hidden_size in hidden_size_list:\n",
    "    for dropout_rate in dropout_list:\n",
    "        model = RNN(loaded_embeddings_ft=loaded_embeddings_ft, emb_size=300, hidden_size=hidden_size, drop_out_rate=dropout_rate, num_layers=1, num_classes=3)\n",
    "        filename= \"RNN_Dropout_{}_hidden_size_{}\".format(dropout_rate, hidden_size)\n",
    "        train_model(model=model, learning_rate=3e-4, num_epochs=10, filename=filename)"
   ]
  },
  {
   "cell_type": "code",
   "execution_count": null,
   "metadata": {},
   "outputs": [],
   "source": [
    "hidden_size_list = [200,300, 400]\n",
    "dropout_list = [0,0.5]\n",
    "kernel_size_list = [3, 5]\n",
    "for hidden_size in hidden_size_list:\n",
    "    for dropout_rate in dropout_list:\n",
    "        for kernel_size in kernel_size_list:\n",
    "            model = CNN(loaded_embeddings_ft=loaded_embeddings_ft, emb_size=300, hidden_size=hidden_size, dropout_rate=dropout_rate, kernel_size=kernel_size, num_layers=2, num_classes=3)\n",
    "            filename= \"CNN_Dropout_{}_hidden_size_{}_kernel_size_{}\".format(dropout_rate, hidden_size, kernel_size)\n",
    "            train_model(model=model, learning_rate=3e-4, num_epochs=10, filename=filename)"
   ]
  }
 ],
 "metadata": {
  "kernelspec": {
   "display_name": "Python 3",
   "language": "python",
   "name": "python3"
  },
  "language_info": {
   "codemirror_mode": {
    "name": "ipython",
    "version": 3
   },
   "file_extension": ".py",
   "mimetype": "text/x-python",
   "name": "python",
   "nbconvert_exporter": "python",
   "pygments_lexer": "ipython3",
   "version": "3.6.3"
  }
 },
 "nbformat": 4,
 "nbformat_minor": 2
}
